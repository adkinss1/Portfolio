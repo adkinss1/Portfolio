{
 "cells": [
  {
   "cell_type": "code",
   "execution_count": 57,
   "metadata": {},
   "outputs": [
    {
     "data": {
      "image/png": "[encoded data removed]",
      "text/plain": [
       "<Figure size 432x288 with 1 Axes>"
      ]
     },
     "metadata": {},
     "output_type": "display_data"
    },
    {
     "data": {
      "image/png": "[encoded data removed]",
      "text/plain": [
       "<Figure size 432x288 with 1 Axes>"
      ]
     },
     "metadata": {},
     "output_type": "display_data"
    }
   ],
   "source": [
    "import numpy as np\n",
    "import matplotlib.pyplot as plt\n",
    "%matplotlib inline\n",
    "\n",
    "\n",
    "def run(G, E, vec, n=1000):\n",
    "    ''' - Computes orthogonal matrix from E, and adds that as noise to the transformation gat G.\n",
    "        - creates lists of n measures of the non-noisy and noisy transformation'''\n",
    "    GE, r = np.linalg.qr(G+E)\n",
    "    #print('orthogonal G+E:\\n', GE)\n",
    "\n",
    "    ideal = np.matmul(G,vec)\n",
    "    noisy = np.matmul(GE,vec)\n",
    "    #print('Ideal vec:\\n', ideal)\n",
    "    #print('Noisy vec:\\n',noisy)\n",
    "\n",
    "    m0 = 0 # number of zeros\n",
    "    for i in range(n):\n",
    "        prob0 = np.cos(np.arctan(ideal[0]/ideal[1]))**2\n",
    "        r = np.random.random()\n",
    "        if prob0 <= r:\n",
    "            m0 += 1\n",
    "\n",
    "    m0_noisy = 0\n",
    "    for i in range(n):\n",
    "        prob0 = np.cos(np.arctan(noisy[0]/noisy[1]))**2\n",
    "        r = np.random.random()\n",
    "        if prob0 <= r:\n",
    "            m0_noisy += 1\n",
    "    \n",
    "    return m0, m0_noisy, n\n",
    "\n",
    "            \n",
    "def plot(p0, p0_noisy, n):\n",
    "    '''Plots two histograms of noisy and non-noisy distributions'''\n",
    "    \n",
    "    fig1 = plt.figure()\n",
    "    p1 = n - p0\n",
    "    plt.bar([0,1], [p0, p1])\n",
    "    plt.text(0,n/10,'{}'.format(p0))\n",
    "    plt.text(1,n/10,'{}'.format(p1))\n",
    "    plt.ylim(0,n)\n",
    "    plt.xticks([0,1], [0, 1])\n",
    "    plt.title(\"No Noise\")\n",
    "    \n",
    "    fig2 = plt.figure()\n",
    "    p1_noisy = n - p0_noisy\n",
    "    plt.bar([0,1], [p0_noisy, p1_noisy])\n",
    "    plt.text(0,n/10,'{}'.format(p0_noisy))\n",
    "    plt.text(1,n/10,'{}'.format(p1_noisy))\n",
    "    plt.ylim(0,n)\n",
    "    plt.xticks([0,1], [0,1])\n",
    "    plt.title(\"Noisy\")\n",
    "    \n",
    "########## Main ###########\n",
    "\n",
    "# input vector\n",
    "vec = np.array([[1],\n",
    "                [0]])\n",
    "\n",
    "# error matrix\n",
    "E = np.array([[0.1, 0.3],\n",
    "              [0.5, 0.2]])\n",
    "\n",
    "# Pauli X\n",
    "PX = np.array([[0,1],\n",
    "               [1,0]])\n",
    "\n",
    "# Hadamard\n",
    "H = np.array([[1/np.sqrt(2),1/np.sqrt(2)],\n",
    "              [1/np.sqrt(2),-1/np.sqrt(2)]])\n",
    "\n",
    "#           Gate, Error, vector, number of trials\n",
    "p0, p0_noisy, n = run(H, E, vec, 1000)\n",
    "plot(p0, p0_noisy, n)\n",
    "\n",
    "\n",
    "\n",
    "\n"
   ]
  },
  {
   "cell_type": "code",
   "execution_count": 61,
   "metadata": {},
   "outputs": [
    {
     "data": {
      "text/plain": [
       "array([[-0.8887234 ,  0.18986789,  0.509     ],\n",
       "       [-0.33839491,  0.59282952,  0.493     ],\n",
       "       [-0.19340142, -0.9158814 ,  0.519     ],\n",
       "       ...,\n",
       "       [-0.15077145, -0.01203178,  0.478     ],\n",
       "       [-0.60808438,  0.47955454,  0.52      ],\n",
       "       [-0.78894148,  0.71970263,  0.502     ]])"
      ]
     },
     "execution_count": 61,
     "metadata": {},
     "output_type": "execute_result"
    }
   ],
   "source": [
    "'''- Uses Hadamard gate and random values of a and b to produce an array for machine learning.\n",
    "   - feature_vectors = [a, b, proportion of zeros]\n",
    "   - with current config, correct proportion of zeros is 0.5'''\n",
    "vec = np.array([[1],\n",
    "                [0]])\n",
    "\n",
    "# Hadamard\n",
    "H = np.array([[1/np.sqrt(2),1/np.sqrt(2)],\n",
    "              [1/np.sqrt(2),-1/np.sqrt(2)]])\n",
    "\n",
    "\n",
    "# Correct ideal proportion of zeros with current gate and vector\n",
    "ideal = np.matmul(H,vec)\n",
    "cp0 = (np.cos(np.arctan(ideal[0]/ideal[1]))**2)[0]\n",
    "\n",
    "n_vectors = 1000\n",
    "feature_vectors = np.zeros((n_vectors, 3))\n",
    "\n",
    "for nv in range(n_vectors):\n",
    "    a = np.random.uniform(-1,1)\n",
    "    b = np.random.uniform(-1,1)\n",
    "    E = np.array([[a, b],\n",
    "                  [b, a]])\n",
    "    p0, p0_noisy, n = run(H, E, vec, 1000)\n",
    "    feature_vectors[nv,0] = a\n",
    "    feature_vectors[nv,1] = b\n",
    "    feature_vectors[nv,2] = (p0/1000) # proportion we got\n",
    "    \n",
    "feature_vectors\n",
    "    "
   ]
  },
  {
   "cell_type": "code",
   "execution_count": 47,
   "metadata": {
    "scrolled": false
   },
   "outputs": [
    {
     "name": "stdout",
     "output_type": "stream",
     "text": [
      "[[0]\n",
      " [1]]\n",
      "0.0\n"
     ]
    }
   ],
   "source": [
    "# input vector\n",
    "vec = np.array([[1],\n",
    "                [0]])\n",
    "\n",
    "#vec = np.array([[ 0.70710678],\n",
    "#               [ -0.70710678]])\n",
    "# error matrix\n",
    "E = np.array([[0.1, 0.3],\n",
    "              [0.5, 0.2]])\n",
    "\n",
    "# Pauli X\n",
    "PX = np.array([[0,1],\n",
    "               [1,0]])\n",
    "\n",
    "# Hadamard\n",
    "H = np.array([[1/np.sqrt(2),1/np.sqrt(2)],\n",
    "              [1/np.sqrt(2),-1/np.sqrt(2)]])\n",
    "\n",
    "ideal = np.matmul(PX,vec)\n",
    "print(ideal)\n",
    "cp0 = (np.sin(np.arctan(ideal[0]/ideal[1]))**2)[0]\n",
    "print(cp0)\n",
    "\n",
    "a_list = []\n",
    "n_list = []\n",
    "for a in np.arange(0,5,0.1):\n",
    "    for b in np.arange(0,5,0.1):\n",
    "        E = np.array([[a, b],\n",
    "                      [b, a]])\n",
    "        p0, p0_noisy, n = run(PX, E, vec, 1000)\n",
    "        n_list.append(p0_noisy)\n",
    "        a_list.append(a-b)"
   ]
  },
  {
   "cell_type": "code",
   "execution_count": 48,
   "metadata": {},
   "outputs": [
    {
     "data": {
      "text/plain": [
       "<matplotlib.collections.PathCollection at 0x7f8a356dbcf8>"
      ]
     },
     "execution_count": 48,
     "metadata": {},
     "output_type": "execute_result"
    },
    {
     "data": {
      "image/png": "[encoded data removed]",
      "text/plain": [
       "<Figure size 432x288 with 1 Axes>"
      ]
     },
     "metadata": {},
     "output_type": "display_data"
    }
   ],
   "source": [
    "plt.scatter(a_list, n_list)"
   ]
  },
  {
   "cell_type": "code",
   "execution_count": null,
   "metadata": {},
   "outputs": [],
   "source": []
  }
 ],
 "metadata": {
  "kernelspec": {
   "display_name": "Python 3",
   "language": "python",
   "name": "python3"
  },
  "language_info": {
   "codemirror_mode": {
    "name": "ipython",
    "version": 3
   },
   "file_extension": ".py",
   "mimetype": "text/x-python",
   "name": "python",
   "nbconvert_exporter": "python",
   "pygments_lexer": "ipython3",
   "version": "3.6.5"
  }
 },
 "nbformat": 4,
 "nbformat_minor": 2
}
